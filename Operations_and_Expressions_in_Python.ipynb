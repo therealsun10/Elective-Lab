{
  "nbformat": 4,
  "nbformat_minor": 0,
  "metadata": {
    "colab": {
      "name": "Operations and Expressions in Python.ipynb",
      "provenance": [],
      "collapsed_sections": [],
      "authorship_tag": "ABX9TyNTCXdGSu+TThSlgwEQVPvn",
      "include_colab_link": true
    },
    "kernelspec": {
      "name": "python3",
      "display_name": "Python 3"
    },
    "language_info": {
      "name": "python"
    }
  },
  "cells": [
    {
      "cell_type": "markdown",
      "metadata": {
        "id": "view-in-github",
        "colab_type": "text"
      },
      "source": [
        "<a href=\"https://colab.research.google.com/github/therealsun10/Elective-Lab/blob/main/Operations_and_Expressions_in_Python.ipynb\" target=\"_parent\"><img src=\"https://colab.research.google.com/assets/colab-badge.svg\" alt=\"Open In Colab\"/></a>"
      ]
    },
    {
      "cell_type": "markdown",
      "source": [
        "##Boolean Operators"
      ],
      "metadata": {
        "id": "j60tOxh6-85l"
      }
    },
    {
      "cell_type": "code",
      "execution_count": null,
      "metadata": {
        "colab": {
          "base_uri": "https://localhost:8080/"
        },
        "id": "KvpqM2tV-vck",
        "outputId": "1b8ebc78-646d-4509-ce93-6e32561946c7"
      },
      "outputs": [
        {
          "output_type": "execute_result",
          "data": {
            "text/plain": [
              "False"
            ]
          },
          "metadata": {},
          "execution_count": 1
        }
      ],
      "source": [
        "x = 10\n",
        "y = 9\n",
        "\n",
        "\n",
        "x>y\n",
        "x==y\n",
        "x<y"
      ]
    },
    {
      "cell_type": "markdown",
      "source": [
        "##Bool Function"
      ],
      "metadata": {
        "id": "9POP0lFZ_FKd"
      }
    },
    {
      "cell_type": "code",
      "source": [
        "print(bool(\"GJ\"))\n",
        "print(bool(17))\n",
        "\n",
        "print(bool(None))\n",
        "print(bool())\n",
        "print(bool([]))\n",
        "print(bool(0))"
      ],
      "metadata": {
        "colab": {
          "base_uri": "https://localhost:8080/"
        },
        "id": "7rVPDIKL_EXF",
        "outputId": "ff1da2d0-ee63-4a53-f260-92a555d86835"
      },
      "execution_count": null,
      "outputs": [
        {
          "output_type": "stream",
          "name": "stdout",
          "text": [
            "True\n",
            "True\n",
            "False\n",
            "False\n",
            "False\n",
            "False\n"
          ]
        }
      ]
    },
    {
      "cell_type": "markdown",
      "source": [
        "##Defining Function "
      ],
      "metadata": {
        "id": "WDcf8320Avo0"
      }
    },
    {
      "cell_type": "code",
      "source": [
        "def myFunction():\n",
        "  return False\n",
        "\n",
        "print(myFunction())"
      ],
      "metadata": {
        "colab": {
          "base_uri": "https://localhost:8080/"
        },
        "id": "2hhtBlWhA8yG",
        "outputId": "b6601b74-4c50-4d46-850c-b3f75a023db1"
      },
      "execution_count": null,
      "outputs": [
        {
          "output_type": "stream",
          "name": "stdout",
          "text": [
            "False\n"
          ]
        }
      ]
    },
    {
      "cell_type": "code",
      "source": [
        "def myFunction():\n",
        "  return False\n",
        "\n",
        "if myFunction():\n",
        "  print(\"Yes\")\n",
        "else:\n",
        "  print(\"No\")"
      ],
      "metadata": {
        "colab": {
          "base_uri": "https://localhost:8080/"
        },
        "id": "8uyevPMIBE0O",
        "outputId": "c29a3519-8548-4f55-8444-1d5d9ab7263e"
      },
      "execution_count": null,
      "outputs": [
        {
          "output_type": "stream",
          "name": "stdout",
          "text": [
            "No\n"
          ]
        }
      ]
    },
    {
      "cell_type": "markdown",
      "source": [
        "##Application 1"
      ],
      "metadata": {
        "id": "lRsQGCDo_jhs"
      }
    },
    {
      "cell_type": "code",
      "source": [
        "print (10>9)\n",
        "\n",
        "a=6\n",
        "b=7\n",
        "print(a==b)\n",
        "print(a!=a)\n"
      ],
      "metadata": {
        "colab": {
          "base_uri": "https://localhost:8080/"
        },
        "id": "BFVOCbB9_ejN",
        "outputId": "440e7061-3ac6-433e-8a50-d3a59bedabcf"
      },
      "execution_count": null,
      "outputs": [
        {
          "output_type": "stream",
          "name": "stdout",
          "text": [
            "True\n",
            "False\n",
            "False\n"
          ]
        }
      ]
    },
    {
      "cell_type": "markdown",
      "source": [
        "##Arithmetic Operators"
      ],
      "metadata": {
        "id": "7IShCLAJ_f0l"
      }
    },
    {
      "cell_type": "code",
      "source": [
        "print(a+b)\n",
        "print(a-b)\n",
        "print(a*b)\n",
        "print(a**b)\n",
        "print(a/b)\n",
        "print(10%5)\n"
      ],
      "metadata": {
        "colab": {
          "base_uri": "https://localhost:8080/"
        },
        "id": "7GvRE9yX_uIQ",
        "outputId": "11adb6ef-9c09-40ef-a2a8-70facf666c65"
      },
      "execution_count": null,
      "outputs": [
        {
          "output_type": "stream",
          "name": "stdout",
          "text": [
            "13\n",
            "-1\n",
            "42\n",
            "279936\n",
            "0.8571428571428571\n",
            "0\n"
          ]
        }
      ]
    },
    {
      "cell_type": "markdown",
      "source": [
        "##Bitwise Operators"
      ],
      "metadata": {
        "id": "50zTIC1n_4GH"
      }
    },
    {
      "cell_type": "code",
      "source": [
        "c=60 \n",
        "d=13\n",
        "\n",
        "print(c&d)\n",
        "print(c|d)\n",
        "print(c<<1)\n",
        "print(c<<2)\n",
        "print(c>>1)"
      ],
      "metadata": {
        "colab": {
          "base_uri": "https://localhost:8080/"
        },
        "id": "C8hsz9C2_6Sj",
        "outputId": "1bb8c926-bf61-4ca0-978b-3bb3af79cd8c"
      },
      "execution_count": null,
      "outputs": [
        {
          "output_type": "stream",
          "name": "stdout",
          "text": [
            "12\n",
            "61\n",
            "120\n",
            "240\n",
            "30\n"
          ]
        }
      ]
    },
    {
      "cell_type": "markdown",
      "source": [
        "##Assignment Operators "
      ],
      "metadata": {
        "id": "FNkWein3AB9H"
      }
    },
    {
      "cell_type": "code",
      "source": [
        "##c+=3 same as c = c+3\n",
        "\n",
        "c+=3\n",
        "c%=3\n",
        "\n",
        "print (c)\n"
      ],
      "metadata": {
        "colab": {
          "base_uri": "https://localhost:8080/"
        },
        "id": "R4web5P_AK1m",
        "outputId": "6ca8cfc9-3e22-4fbe-8bb7-cd8d412b5394"
      },
      "execution_count": null,
      "outputs": [
        {
          "output_type": "stream",
          "name": "stdout",
          "text": [
            "0\n"
          ]
        }
      ]
    },
    {
      "cell_type": "markdown",
      "source": [
        "##Logical Operators"
      ],
      "metadata": {
        "id": "4MFcbg3JATG1"
      }
    },
    {
      "cell_type": "code",
      "source": [
        "c = True\n",
        "d = True\n",
        "\n",
        "(c and d)"
      ],
      "metadata": {
        "colab": {
          "base_uri": "https://localhost:8080/"
        },
        "id": "dUzhL69gAXo0",
        "outputId": "2d22f6f7-26f3-47f7-ff74-fdc5d881107d"
      },
      "execution_count": null,
      "outputs": [
        {
          "output_type": "execute_result",
          "data": {
            "text/plain": [
              "True"
            ]
          },
          "metadata": {},
          "execution_count": 8
        }
      ]
    },
    {
      "cell_type": "markdown",
      "source": [
        "##Identity"
      ],
      "metadata": {
        "id": "g1_DkvdEAbfl"
      }
    },
    {
      "cell_type": "code",
      "source": [
        "c is d \n",
        "c is not d "
      ],
      "metadata": {
        "colab": {
          "base_uri": "https://localhost:8080/"
        },
        "id": "AgiyCgfzAdHF",
        "outputId": "55791229-6472-405d-821e-615d8fff780d"
      },
      "execution_count": null,
      "outputs": [
        {
          "output_type": "execute_result",
          "data": {
            "text/plain": [
              "False"
            ]
          },
          "metadata": {},
          "execution_count": 9
        }
      ]
    },
    {
      "cell_type": "markdown",
      "source": [
        "##Application 2\n"
      ],
      "metadata": {
        "id": "wjNoVhFvAgi0"
      }
    },
    {
      "cell_type": "code",
      "source": [
        "e = 10\n",
        "f = 5\n",
        "\n",
        "# Implement the operations +, //, bit shift right >> twice"
      ],
      "metadata": {
        "id": "IzVRaaV7AlST"
      },
      "execution_count": null,
      "outputs": []
    }
  ]
}